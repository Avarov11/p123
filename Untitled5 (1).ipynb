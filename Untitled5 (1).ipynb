{
 "cells": [
  {
   "cell_type": "code",
   "execution_count": null,
   "id": "bf2a7723",
   "metadata": {},
   "outputs": [],
   "source": [
    "def max(a,b,c):\n",
    "    if (a>b and a>c ):\n",
    "        return a\n",
    "    elif (b>a and b>c):\n",
    "        return b\n",
    "    else:\n",
    "        return c\n",
    "x=int(input())\n",
    "y=int(input())\n",
    "z=int(input())\n",
    "print(max(x,y,z))"
   ]
  },
  {
   "cell_type": "code",
   "execution_count": null,
   "id": "166cac89",
   "metadata": {},
   "outputs": [],
   "source": [
    "def calculate(a,b):\n",
    "    c=a+b\n",
    "    d=a-b\n",
    "    return (c,d)\n",
    "x=int(input())\n",
    "y=int(input())\n",
    "print(calculate(x,y))"
   ]
  },
  {
   "cell_type": "code",
   "execution_count": null,
   "id": "01c27714",
   "metadata": {},
   "outputs": [],
   "source": [
    "def xD(x):\n",
    "    sum=0\n",
    "    for v in range(0,len(x),1):\n",
    "        sum+=x[v]\n",
    "    return sum\n",
    "def xF(y):\n",
    "    multi=1\n",
    "    for v in range(0,len(x),1):\n",
    "        multi+=x[v]\n",
    "    return multi\n",
    "x=[2,3,46,8,9,0]\n",
    "for l in range(0,len(x),1):\n",
    "    if x[l]%2==0:\n",
    "        s=xD(x)\n",
    "    else:\n",
    "        y=xF(x)\n",
    "print (s)\n",
    "print (y)"
   ]
  },
  {
   "cell_type": "code",
   "execution_count": 1,
   "id": "061cb2fc",
   "metadata": {},
   "outputs": [
    {
     "name": "stdout",
     "output_type": "stream",
     "text": [
      "['black', 'green', 'red', 'white', 'yellow']\n"
     ]
    }
   ],
   "source": [
    "x=\"green-red-yellow-black-white\"\n",
    "y=x.split(\"-\")\n",
    "y.sort()\n",
    "print (y)"
   ]
  },
  {
   "cell_type": "code",
   "execution_count": null,
   "id": "46136dce",
   "metadata": {},
   "outputs": [],
   "source": []
  }
 ],
 "metadata": {
  "kernelspec": {
   "display_name": "Python 3 (ipykernel)",
   "language": "python",
   "name": "python3"
  },
  "language_info": {
   "codemirror_mode": {
    "name": "ipython",
    "version": 3
   },
   "file_extension": ".py",
   "mimetype": "text/x-python",
   "name": "python",
   "nbconvert_exporter": "python",
   "pygments_lexer": "ipython3",
   "version": "3.9.12"
  }
 },
 "nbformat": 4,
 "nbformat_minor": 5
}
